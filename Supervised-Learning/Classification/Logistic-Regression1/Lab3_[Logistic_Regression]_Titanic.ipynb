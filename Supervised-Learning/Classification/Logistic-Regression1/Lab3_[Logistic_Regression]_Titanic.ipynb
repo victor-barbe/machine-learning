{
  "cells": [
    {
      "cell_type": "markdown",
      "metadata": {
        "id": "UpG7Nd4v9Xca"
      },
      "source": [
        "# Predict survival on the Titanic\n",
        "In this Lab, we ask you to apply the tools of machine learning to predict which passengers survived the tragedy"
      ]
    },
    {
      "cell_type": "markdown",
      "metadata": {
        "id": "PzbOp32s9Xcf"
      },
      "source": [
        "### Dataset\n",
        "The dataset contains 891 observations of 12 variables:\n",
        "* **PassengerId**: Unique ID for each passenger\n",
        "* **Survived**: Survival (0 = No; 1 = Yes)\n",
        "* **Pclass**: Passenger Class (1 = 1st; 2 = 2nd; 3 = 3rd)\n",
        "* **Name**: Name\n",
        "* **Sex**: Sex\n",
        "* **Age**: Age\n",
        "* **Sibsp**: Number of Siblings/Spouses Aboard\n",
        "* **Parch**: Number of Parents/Children Aboard\n",
        "* **Ticket**: Ticket Number\n",
        "* **Fare**: Passenger Fare\n",
        "* **Cabin**: Cabin\n",
        "* **Embarked** Port of Embarkation (C = Cherbourg; Q = Queenstown; S = Southampton)"
      ]
    },
    {
      "cell_type": "code",
      "execution_count": null,
      "metadata": {
        "colab": {
          "base_uri": "https://localhost:8080/"
        },
        "id": "O5Ma0kpBh4IA",
        "outputId": "26a1f33e-bbcb-4579-d3ad-6813e977228f"
      },
      "outputs": [
        {
          "name": "stdout",
          "output_type": "stream",
          "text": [
            "Drive already mounted at /content/drive; to attempt to forcibly remount, call drive.mount(\"/content/drive\", force_remount=True).\n"
          ]
        }
      ],
      "source": [
        "import os\n",
        "from google.colab import drive\n",
        "drive.mount('/content/drive', force_remount=False)"
      ]
    },
    {
      "cell_type": "code",
      "execution_count": null,
      "metadata": {
        "collapsed": true,
        "id": "p4ZCTpyI9Xch"
      },
      "outputs": [],
      "source": [
        "import pandas as pd\n",
        "import warnings\n",
        "warnings.filterwarnings('ignore')\n",
        "# your code here"
      ]
    },
    {
      "cell_type": "code",
      "execution_count": null,
      "metadata": {
        "colab": {
          "base_uri": "https://localhost:8080/",
          "height": 347
        },
        "collapsed": true,
        "id": "3Kn5vXEB9Xcj",
        "outputId": "c6e9edcd-beea-44f2-8d3f-22e8d72d33a4"
      },
      "outputs": [
        {
          "data": {
            "text/html": [
              "\n",
              "  <div id=\"df-d49a7df2-4c59-444f-ba74-4122a7e94c7d\">\n",
              "    <div class=\"colab-df-container\">\n",
              "      <div>\n",
              "<style scoped>\n",
              "    .dataframe tbody tr th:only-of-type {\n",
              "        vertical-align: middle;\n",
              "    }\n",
              "\n",
              "    .dataframe tbody tr th {\n",
              "        vertical-align: top;\n",
              "    }\n",
              "\n",
              "    .dataframe thead th {\n",
              "        text-align: right;\n",
              "    }\n",
              "</style>\n",
              "<table border=\"1\" class=\"dataframe\">\n",
              "  <thead>\n",
              "    <tr style=\"text-align: right;\">\n",
              "      <th></th>\n",
              "      <th>Survived</th>\n",
              "      <th>Pclass</th>\n",
              "      <th>Name</th>\n",
              "      <th>Sex</th>\n",
              "      <th>Age</th>\n",
              "      <th>SibSp</th>\n",
              "      <th>Parch</th>\n",
              "      <th>Ticket</th>\n",
              "      <th>Fare</th>\n",
              "      <th>Cabin</th>\n",
              "      <th>Embarked</th>\n",
              "    </tr>\n",
              "    <tr>\n",
              "      <th>PassengerId</th>\n",
              "      <th></th>\n",
              "      <th></th>\n",
              "      <th></th>\n",
              "      <th></th>\n",
              "      <th></th>\n",
              "      <th></th>\n",
              "      <th></th>\n",
              "      <th></th>\n",
              "      <th></th>\n",
              "      <th></th>\n",
              "      <th></th>\n",
              "    </tr>\n",
              "  </thead>\n",
              "  <tbody>\n",
              "    <tr>\n",
              "      <th>1</th>\n",
              "      <td>0</td>\n",
              "      <td>3</td>\n",
              "      <td>Braund, Mr. Owen Harris</td>\n",
              "      <td>male</td>\n",
              "      <td>22.0</td>\n",
              "      <td>1</td>\n",
              "      <td>0</td>\n",
              "      <td>A/5 21171</td>\n",
              "      <td>7.2500</td>\n",
              "      <td>NaN</td>\n",
              "      <td>S</td>\n",
              "    </tr>\n",
              "    <tr>\n",
              "      <th>2</th>\n",
              "      <td>1</td>\n",
              "      <td>1</td>\n",
              "      <td>Cumings, Mrs. John Bradley (Florence Briggs Th...</td>\n",
              "      <td>female</td>\n",
              "      <td>38.0</td>\n",
              "      <td>1</td>\n",
              "      <td>0</td>\n",
              "      <td>PC 17599</td>\n",
              "      <td>71.2833</td>\n",
              "      <td>C85</td>\n",
              "      <td>C</td>\n",
              "    </tr>\n",
              "    <tr>\n",
              "      <th>3</th>\n",
              "      <td>1</td>\n",
              "      <td>3</td>\n",
              "      <td>Heikkinen, Miss. Laina</td>\n",
              "      <td>female</td>\n",
              "      <td>26.0</td>\n",
              "      <td>0</td>\n",
              "      <td>0</td>\n",
              "      <td>STON/O2. 3101282</td>\n",
              "      <td>7.9250</td>\n",
              "      <td>NaN</td>\n",
              "      <td>S</td>\n",
              "    </tr>\n",
              "    <tr>\n",
              "      <th>4</th>\n",
              "      <td>1</td>\n",
              "      <td>1</td>\n",
              "      <td>Futrelle, Mrs. Jacques Heath (Lily May Peel)</td>\n",
              "      <td>female</td>\n",
              "      <td>35.0</td>\n",
              "      <td>1</td>\n",
              "      <td>0</td>\n",
              "      <td>113803</td>\n",
              "      <td>53.1000</td>\n",
              "      <td>C123</td>\n",
              "      <td>S</td>\n",
              "    </tr>\n",
              "    <tr>\n",
              "      <th>5</th>\n",
              "      <td>0</td>\n",
              "      <td>3</td>\n",
              "      <td>Allen, Mr. William Henry</td>\n",
              "      <td>male</td>\n",
              "      <td>35.0</td>\n",
              "      <td>0</td>\n",
              "      <td>0</td>\n",
              "      <td>373450</td>\n",
              "      <td>8.0500</td>\n",
              "      <td>NaN</td>\n",
              "      <td>S</td>\n",
              "    </tr>\n",
              "  </tbody>\n",
              "</table>\n",
              "</div>\n",
              "      <button class=\"colab-df-convert\" onclick=\"convertToInteractive('df-d49a7df2-4c59-444f-ba74-4122a7e94c7d')\"\n",
              "              title=\"Convert this dataframe to an interactive table.\"\n",
              "              style=\"display:none;\">\n",
              "        \n",
              "  <svg xmlns=\"http://www.w3.org/2000/svg\" height=\"24px\"viewBox=\"0 0 24 24\"\n",
              "       width=\"24px\">\n",
              "    <path d=\"M0 0h24v24H0V0z\" fill=\"none\"/>\n",
              "    <path d=\"M18.56 5.44l.94 2.06.94-2.06 2.06-.94-2.06-.94-.94-2.06-.94 2.06-2.06.94zm-11 1L8.5 8.5l.94-2.06 2.06-.94-2.06-.94L8.5 2.5l-.94 2.06-2.06.94zm10 10l.94 2.06.94-2.06 2.06-.94-2.06-.94-.94-2.06-.94 2.06-2.06.94z\"/><path d=\"M17.41 7.96l-1.37-1.37c-.4-.4-.92-.59-1.43-.59-.52 0-1.04.2-1.43.59L10.3 9.45l-7.72 7.72c-.78.78-.78 2.05 0 2.83L4 21.41c.39.39.9.59 1.41.59.51 0 1.02-.2 1.41-.59l7.78-7.78 2.81-2.81c.8-.78.8-2.07 0-2.86zM5.41 20L4 18.59l7.72-7.72 1.47 1.35L5.41 20z\"/>\n",
              "  </svg>\n",
              "      </button>\n",
              "      \n",
              "  <style>\n",
              "    .colab-df-container {\n",
              "      display:flex;\n",
              "      flex-wrap:wrap;\n",
              "      gap: 12px;\n",
              "    }\n",
              "\n",
              "    .colab-df-convert {\n",
              "      background-color: #E8F0FE;\n",
              "      border: none;\n",
              "      border-radius: 50%;\n",
              "      cursor: pointer;\n",
              "      display: none;\n",
              "      fill: #1967D2;\n",
              "      height: 32px;\n",
              "      padding: 0 0 0 0;\n",
              "      width: 32px;\n",
              "    }\n",
              "\n",
              "    .colab-df-convert:hover {\n",
              "      background-color: #E2EBFA;\n",
              "      box-shadow: 0px 1px 2px rgba(60, 64, 67, 0.3), 0px 1px 3px 1px rgba(60, 64, 67, 0.15);\n",
              "      fill: #174EA6;\n",
              "    }\n",
              "\n",
              "    [theme=dark] .colab-df-convert {\n",
              "      background-color: #3B4455;\n",
              "      fill: #D2E3FC;\n",
              "    }\n",
              "\n",
              "    [theme=dark] .colab-df-convert:hover {\n",
              "      background-color: #434B5C;\n",
              "      box-shadow: 0px 1px 3px 1px rgba(0, 0, 0, 0.15);\n",
              "      filter: drop-shadow(0px 1px 2px rgba(0, 0, 0, 0.3));\n",
              "      fill: #FFFFFF;\n",
              "    }\n",
              "  </style>\n",
              "\n",
              "      <script>\n",
              "        const buttonEl =\n",
              "          document.querySelector('#df-d49a7df2-4c59-444f-ba74-4122a7e94c7d button.colab-df-convert');\n",
              "        buttonEl.style.display =\n",
              "          google.colab.kernel.accessAllowed ? 'block' : 'none';\n",
              "\n",
              "        async function convertToInteractive(key) {\n",
              "          const element = document.querySelector('#df-d49a7df2-4c59-444f-ba74-4122a7e94c7d');\n",
              "          const dataTable =\n",
              "            await google.colab.kernel.invokeFunction('convertToInteractive',\n",
              "                                                     [key], {});\n",
              "          if (!dataTable) return;\n",
              "\n",
              "          const docLinkHtml = 'Like what you see? Visit the ' +\n",
              "            '<a target=\"_blank\" href=https://colab.research.google.com/notebooks/data_table.ipynb>data table notebook</a>'\n",
              "            + ' to learn more about interactive tables.';\n",
              "          element.innerHTML = '';\n",
              "          dataTable['output_type'] = 'display_data';\n",
              "          await google.colab.output.renderOutput(dataTable, element);\n",
              "          const docLink = document.createElement('div');\n",
              "          docLink.innerHTML = docLinkHtml;\n",
              "          element.appendChild(docLink);\n",
              "        }\n",
              "      </script>\n",
              "    </div>\n",
              "  </div>\n",
              "  "
            ],
            "text/plain": [
              "             Survived  Pclass  ... Cabin Embarked\n",
              "PassengerId                    ...               \n",
              "1                   0       3  ...   NaN        S\n",
              "2                   1       1  ...   C85        C\n",
              "3                   1       3  ...   NaN        S\n",
              "4                   1       1  ...  C123        S\n",
              "5                   0       3  ...   NaN        S\n",
              "\n",
              "[5 rows x 11 columns]"
            ]
          },
          "execution_count": 63,
          "metadata": {},
          "output_type": "execute_result"
        }
      ],
      "source": [
        "titanic = pd.read_csv('titanic.csv', index_col=0)\n",
        "titanic.head()"
      ]
    },
    {
      "cell_type": "code",
      "execution_count": null,
      "metadata": {
        "colab": {
          "base_uri": "https://localhost:8080/"
        },
        "collapsed": true,
        "id": "5R3HTRZ29Xck",
        "outputId": "92bc6325-db6c-442f-9fec-480a2d3ed448"
      },
      "outputs": [
        {
          "name": "stdout",
          "output_type": "stream",
          "text": [
            "object     5\n",
            "int64      4\n",
            "float64    2\n",
            "dtype: int64\n",
            "(891, 11)\n"
          ]
        }
      ],
      "source": [
        "print(titanic.dtypes.value_counts())\n",
        "print(titanic.shape)"
      ]
    },
    {
      "cell_type": "markdown",
      "metadata": {
        "id": "eaeMDHTJ9Xck"
      },
      "source": [
        "Looks like there are some Nan values, let's see how many for each column"
      ]
    },
    {
      "cell_type": "code",
      "execution_count": null,
      "metadata": {
        "colab": {
          "base_uri": "https://localhost:8080/"
        },
        "collapsed": true,
        "id": "5AI_2olL9Xck",
        "outputId": "c8fcbe46-3bec-41b8-88c4-481d8a73dbbf"
      },
      "outputs": [
        {
          "data": {
            "text/plain": [
              "Survived      0\n",
              "Pclass        0\n",
              "Name          0\n",
              "Sex           0\n",
              "Age         177\n",
              "SibSp         0\n",
              "Parch         0\n",
              "Ticket        0\n",
              "Fare          0\n",
              "Cabin       687\n",
              "Embarked      2\n",
              "dtype: int64"
            ]
          },
          "execution_count": 65,
          "metadata": {},
          "output_type": "execute_result"
        }
      ],
      "source": [
        "titanic.isnull().sum()"
      ]
    },
    {
      "cell_type": "markdown",
      "metadata": {
        "id": "rsjzeWQA9Xcl"
      },
      "source": [
        "**Cabin** contains a lot of Nan values, we'll drop this column <br>\n",
        "We'll replace the Nan values in **Age** with the age's median, and the ones in **Embarked** with **'S'**, which is the most frequent one in this column"
      ]
    },
    {
      "cell_type": "code",
      "execution_count": null,
      "metadata": {
        "colab": {
          "base_uri": "https://localhost:8080/"
        },
        "collapsed": true,
        "id": "fg6Yzqkc9Xcm",
        "outputId": "a6094f0f-4391-4ce7-a644-1a9cc9da7b57"
      },
      "outputs": [
        {
          "name": "stdout",
          "output_type": "stream",
          "text": [
            "Survived    0\n",
            "Pclass      0\n",
            "Name        0\n",
            "Sex         0\n",
            "Age         0\n",
            "SibSp       0\n",
            "Parch       0\n",
            "Ticket      0\n",
            "Fare        0\n",
            "Embarked    2\n",
            "dtype: int64\n",
            "PassengerId\n",
            "1      22.0\n",
            "2      38.0\n",
            "3      26.0\n",
            "4      35.0\n",
            "5      35.0\n",
            "       ... \n",
            "887    27.0\n",
            "888    19.0\n",
            "889    28.0\n",
            "890    26.0\n",
            "891    32.0\n",
            "Name: Age, Length: 891, dtype: float64\n"
          ]
        }
      ],
      "source": [
        "to_drop =['Cabin']\n",
        "titanic.drop(to_drop, axis = 1, inplace = True)\n",
        "\n",
        "# check the fillna documentation: http://pandas.pydata.org/pandas-docs/stable/generated/pandas.DataFrame.fillna.html\n",
        "\n",
        "titanic[\"Age\"]= titanic[\"Age\"].fillna(titanic[\"Age\"].median())\n",
        "titanic[\"Embarked\"].fillna(\"s\")\n",
        "print(titanic.isnull().sum())\n",
        "print(titanic[\"Age\"])\n",
        "\n"
      ]
    },
    {
      "cell_type": "markdown",
      "metadata": {
        "id": "8lO-sbAc9Xcn"
      },
      "source": [
        "## Visualization"
      ]
    },
    {
      "cell_type": "code",
      "execution_count": null,
      "metadata": {
        "colab": {
          "base_uri": "https://localhost:8080/",
          "height": 326
        },
        "collapsed": true,
        "id": "pPZdkF3K9Xcn",
        "outputId": "25d0b1b1-0088-49a1-c2a5-b0fcc1a78c90"
      },
      "outputs": [
        {
          "name": "stdout",
          "output_type": "stream",
          "text": [
            "survival rate = 0.3838383838383838\n"
          ]
        },
        {
          "data": {
            "text/plain": [
              "<matplotlib.axes._subplots.AxesSubplot at 0x7fc7638c91d0>"
            ]
          },
          "execution_count": 67,
          "metadata": {},
          "output_type": "execute_result"
        },
        {
          "data": {
            "image/png": "[encoded data removed]",
            "text/plain": [
              "<Figure size 432x288 with 1 Axes>"
            ]
          },
          "metadata": {
            "needs_background": "light"
          },
          "output_type": "display_data"
        }
      ],
      "source": [
        "%matplotlib inline\n",
        "import matplotlib.pyplot as plt\n",
        "print ('survival rate =', titanic.Survived.mean())\n",
        "(titanic.groupby('Survived').size()/titanic.shape[0]).plot(kind=\"bar\",title=\"Label's Balance\")\n"
      ]
    },
    {
      "cell_type": "code",
      "execution_count": null,
      "metadata": {
        "collapsed": true,
        "id": "mVjSojhJ9Xco"
      },
      "outputs": [],
      "source": [
        "# make a function to plot survival against passenger attribute\n",
        "def survival_rate(column,t):\n",
        "    df=pd.DataFrame()\n",
        "    df['total']=titanic.groupby(column).size()\n",
        "    df['survived'] = titanic.groupby(column).sum()['Survived']\n",
        "    df['percentage'] = round(df['survived']/df['total']*100,2)\n",
        "    print(df)\n",
        "\n",
        "    df['survived'].plot(kind=t)\n",
        "    df['total'].plot(kind=t,alpha=0.5,title=\"Survivors per \"+str(column))\n",
        "    plt.show()"
      ]
    },
    {
      "cell_type": "code",
      "execution_count": null,
      "metadata": {
        "colab": {
          "base_uri": "https://localhost:8080/",
          "height": 349
        },
        "collapsed": true,
        "id": "e9Ds55q79Xco",
        "outputId": "af162a84-01d3-4dff-de76-2d12546a4dbc"
      },
      "outputs": [
        {
          "name": "stdout",
          "output_type": "stream",
          "text": [
            "        total  survived  percentage\n",
            "Sex                                \n",
            "female    314       233       74.20\n",
            "male      577       109       18.89\n"
          ]
        },
        {
          "data": {
            "image/png": "[encoded data removed]",
            "text/plain": [
              "<Figure size 432x288 with 1 Axes>"
            ]
          },
          "metadata": {
            "needs_background": "light"
          },
          "output_type": "display_data"
        }
      ],
      "source": [
        "# Draw survival per Sex\n",
        "survival_rate(\"Sex\",\"barh\")"
      ]
    },
    {
      "cell_type": "code",
      "execution_count": null,
      "metadata": {
        "colab": {
          "base_uri": "https://localhost:8080/",
          "height": 366
        },
        "collapsed": true,
        "id": "ESv52uFP9Xcp",
        "outputId": "2d191a9f-c92b-4af9-fc88-8775c30bb312"
      },
      "outputs": [
        {
          "name": "stdout",
          "output_type": "stream",
          "text": [
            "        total  survived  percentage\n",
            "Pclass                             \n",
            "1         216       136       62.96\n",
            "2         184        87       47.28\n",
            "3         491       119       24.24\n"
          ]
        },
        {
          "data": {
            "image/png": "[encoded data removed]",
            "text/plain": [
              "<Figure size 432x288 with 1 Axes>"
            ]
          },
          "metadata": {
            "needs_background": "light"
          },
          "output_type": "display_data"
        }
      ],
      "source": [
        "# Draw survival per Class\n",
        "survival_rate(\"Pclass\",\"barh\")"
      ]
    },
    {
      "cell_type": "code",
      "execution_count": null,
      "metadata": {
        "colab": {
          "base_uri": "https://localhost:8080/",
          "height": 378
        },
        "collapsed": true,
        "id": "YrTGe5Yw9Xcp",
        "outputId": "0339cbbd-3a91-4040-c151-aaa886de44d7"
      },
      "outputs": [
        {
          "name": "stdout",
          "output_type": "stream",
          "text": [
            "          total  survived  percentage\n",
            "Embarked                             \n",
            "C           168        93       55.36\n",
            "Q            77        30       38.96\n",
            "S           644       217       33.70\n"
          ]
        },
        {
          "data": {
            "image/png": "[encoded data removed]",
            "text/plain": [
              "<Figure size 432x288 with 1 Axes>"
            ]
          },
          "metadata": {
            "needs_background": "light"
          },
          "output_type": "display_data"
        }
      ],
      "source": [
        "# Graph survived per port of embarkation\n",
        "survival_rate(\"Embarked\",\"bar\")"
      ]
    },
    {
      "cell_type": "code",
      "execution_count": null,
      "metadata": {
        "colab": {
          "base_uri": "https://localhost:8080/",
          "height": 445
        },
        "collapsed": true,
        "id": "HMoRYtzq9Xcp",
        "outputId": "b09a5be8-60e0-4a31-fdd0-2d50809f3d11"
      },
      "outputs": [
        {
          "name": "stdout",
          "output_type": "stream",
          "text": [
            "       total  survived  percentage\n",
            "Parch                             \n",
            "0        678       233       34.37\n",
            "1        118        65       55.08\n",
            "2         80        40       50.00\n",
            "3          5         3       60.00\n",
            "4          4         0        0.00\n",
            "5          5         1       20.00\n",
            "6          1         0        0.00\n"
          ]
        },
        {
          "data": {
            "image/png": "[encoded data removed]",
            "text/plain": [
              "<Figure size 432x288 with 1 Axes>"
            ]
          },
          "metadata": {
            "needs_background": "light"
          },
          "output_type": "display_data"
        }
      ],
      "source": [
        "# Draw survived per Number of Parents/Children Aboard (Parch)\n",
        "\n",
        "survival_rate(\"Parch\", \"bar\")"
      ]
    },
    {
      "cell_type": "code",
      "execution_count": null,
      "metadata": {
        "colab": {
          "base_uri": "https://localhost:8080/",
          "height": 445
        },
        "collapsed": true,
        "id": "FN4wuUhv9Xcp",
        "outputId": "92d26acf-2515-4857-ebf4-a60289a42fec"
      },
      "outputs": [
        {
          "name": "stdout",
          "output_type": "stream",
          "text": [
            "       total  survived  percentage\n",
            "SibSp                             \n",
            "0        608       210       34.54\n",
            "1        209       112       53.59\n",
            "2         28        13       46.43\n",
            "3         16         4       25.00\n",
            "4         18         3       16.67\n",
            "5          5         0        0.00\n",
            "8          7         0        0.00\n"
          ]
        },
        {
          "data": {
            "image/png": "[encoded data removed]",
            "text/plain": [
              "<Figure size 432x288 with 1 Axes>"
            ]
          },
          "metadata": {
            "needs_background": "light"
          },
          "output_type": "display_data"
        }
      ],
      "source": [
        "# Draw survived per Number of Siblings/Spouses Aboard (SibSp)\n",
        "\n",
        "survival_rate(\"SibSp\", \"bar\")"
      ]
    },
    {
      "cell_type": "markdown",
      "metadata": {
        "id": "-fEc4HUu9Xcq"
      },
      "source": [
        "## Model training"
      ]
    },
    {
      "cell_type": "markdown",
      "metadata": {
        "id": "SpAeGxFl9Xcq"
      },
      "source": [
        "Some of the columns don't have predictive power, so let's specify which ones are included for prediction"
      ]
    },
    {
      "cell_type": "code",
      "execution_count": null,
      "metadata": {
        "collapsed": true,
        "id": "ZFt_bUDH9Xcq"
      },
      "outputs": [],
      "source": [
        "predictors = [\"Pclass\", \"Sex\", \"Age\", 'SibSp' ,'Parch', \"Fare\", \"Embarked\"]  "
      ]
    },
    {
      "cell_type": "markdown",
      "metadata": {
        "id": "4QReR82E9Xcq"
      },
      "source": [
        "We need now to convert text columns in **predictors** to numerical ones"
      ]
    },
    {
      "cell_type": "code",
      "execution_count": null,
      "metadata": {
        "colab": {
          "base_uri": "https://localhost:8080/",
          "height": 330
        },
        "collapsed": true,
        "id": "XxK-7mYN9Xcr",
        "outputId": "3a1f0a23-e042-479d-be9c-493a282cdf7b"
      },
      "outputs": [
        {
          "data": {
            "text/html": [
              "\n",
              "  <div id=\"df-b519bf5e-1449-40b5-aad6-87a9977be83e\">\n",
              "    <div class=\"colab-df-container\">\n",
              "      <div>\n",
              "<style scoped>\n",
              "    .dataframe tbody tr th:only-of-type {\n",
              "        vertical-align: middle;\n",
              "    }\n",
              "\n",
              "    .dataframe tbody tr th {\n",
              "        vertical-align: top;\n",
              "    }\n",
              "\n",
              "    .dataframe thead th {\n",
              "        text-align: right;\n",
              "    }\n",
              "</style>\n",
              "<table border=\"1\" class=\"dataframe\">\n",
              "  <thead>\n",
              "    <tr style=\"text-align: right;\">\n",
              "      <th></th>\n",
              "      <th>Survived</th>\n",
              "      <th>Pclass</th>\n",
              "      <th>Name</th>\n",
              "      <th>Sex</th>\n",
              "      <th>Age</th>\n",
              "      <th>SibSp</th>\n",
              "      <th>Parch</th>\n",
              "      <th>Ticket</th>\n",
              "      <th>Fare</th>\n",
              "      <th>Embarked</th>\n",
              "    </tr>\n",
              "    <tr>\n",
              "      <th>PassengerId</th>\n",
              "      <th></th>\n",
              "      <th></th>\n",
              "      <th></th>\n",
              "      <th></th>\n",
              "      <th></th>\n",
              "      <th></th>\n",
              "      <th></th>\n",
              "      <th></th>\n",
              "      <th></th>\n",
              "      <th></th>\n",
              "    </tr>\n",
              "  </thead>\n",
              "  <tbody>\n",
              "    <tr>\n",
              "      <th>1</th>\n",
              "      <td>0</td>\n",
              "      <td>3</td>\n",
              "      <td>Braund, Mr. Owen Harris</td>\n",
              "      <td>1</td>\n",
              "      <td>22.0</td>\n",
              "      <td>1</td>\n",
              "      <td>0</td>\n",
              "      <td>A/5 21171</td>\n",
              "      <td>7.2500</td>\n",
              "      <td>2</td>\n",
              "    </tr>\n",
              "    <tr>\n",
              "      <th>2</th>\n",
              "      <td>1</td>\n",
              "      <td>1</td>\n",
              "      <td>Cumings, Mrs. John Bradley (Florence Briggs Th...</td>\n",
              "      <td>0</td>\n",
              "      <td>38.0</td>\n",
              "      <td>1</td>\n",
              "      <td>0</td>\n",
              "      <td>PC 17599</td>\n",
              "      <td>71.2833</td>\n",
              "      <td>0</td>\n",
              "    </tr>\n",
              "    <tr>\n",
              "      <th>3</th>\n",
              "      <td>1</td>\n",
              "      <td>3</td>\n",
              "      <td>Heikkinen, Miss. Laina</td>\n",
              "      <td>0</td>\n",
              "      <td>26.0</td>\n",
              "      <td>0</td>\n",
              "      <td>0</td>\n",
              "      <td>STON/O2. 3101282</td>\n",
              "      <td>7.9250</td>\n",
              "      <td>2</td>\n",
              "    </tr>\n",
              "    <tr>\n",
              "      <th>4</th>\n",
              "      <td>1</td>\n",
              "      <td>1</td>\n",
              "      <td>Futrelle, Mrs. Jacques Heath (Lily May Peel)</td>\n",
              "      <td>0</td>\n",
              "      <td>35.0</td>\n",
              "      <td>1</td>\n",
              "      <td>0</td>\n",
              "      <td>113803</td>\n",
              "      <td>53.1000</td>\n",
              "      <td>2</td>\n",
              "    </tr>\n",
              "    <tr>\n",
              "      <th>5</th>\n",
              "      <td>0</td>\n",
              "      <td>3</td>\n",
              "      <td>Allen, Mr. William Henry</td>\n",
              "      <td>1</td>\n",
              "      <td>35.0</td>\n",
              "      <td>0</td>\n",
              "      <td>0</td>\n",
              "      <td>373450</td>\n",
              "      <td>8.0500</td>\n",
              "      <td>2</td>\n",
              "    </tr>\n",
              "  </tbody>\n",
              "</table>\n",
              "</div>\n",
              "      <button class=\"colab-df-convert\" onclick=\"convertToInteractive('df-b519bf5e-1449-40b5-aad6-87a9977be83e')\"\n",
              "              title=\"Convert this dataframe to an interactive table.\"\n",
              "              style=\"display:none;\">\n",
              "        \n",
              "  <svg xmlns=\"http://www.w3.org/2000/svg\" height=\"24px\"viewBox=\"0 0 24 24\"\n",
              "       width=\"24px\">\n",
              "    <path d=\"M0 0h24v24H0V0z\" fill=\"none\"/>\n",
              "    <path d=\"M18.56 5.44l.94 2.06.94-2.06 2.06-.94-2.06-.94-.94-2.06-.94 2.06-2.06.94zm-11 1L8.5 8.5l.94-2.06 2.06-.94-2.06-.94L8.5 2.5l-.94 2.06-2.06.94zm10 10l.94 2.06.94-2.06 2.06-.94-2.06-.94-.94-2.06-.94 2.06-2.06.94z\"/><path d=\"M17.41 7.96l-1.37-1.37c-.4-.4-.92-.59-1.43-.59-.52 0-1.04.2-1.43.59L10.3 9.45l-7.72 7.72c-.78.78-.78 2.05 0 2.83L4 21.41c.39.39.9.59 1.41.59.51 0 1.02-.2 1.41-.59l7.78-7.78 2.81-2.81c.8-.78.8-2.07 0-2.86zM5.41 20L4 18.59l7.72-7.72 1.47 1.35L5.41 20z\"/>\n",
              "  </svg>\n",
              "      </button>\n",
              "      \n",
              "  <style>\n",
              "    .colab-df-container {\n",
              "      display:flex;\n",
              "      flex-wrap:wrap;\n",
              "      gap: 12px;\n",
              "    }\n",
              "\n",
              "    .colab-df-convert {\n",
              "      background-color: #E8F0FE;\n",
              "      border: none;\n",
              "      border-radius: 50%;\n",
              "      cursor: pointer;\n",
              "      display: none;\n",
              "      fill: #1967D2;\n",
              "      height: 32px;\n",
              "      padding: 0 0 0 0;\n",
              "      width: 32px;\n",
              "    }\n",
              "\n",
              "    .colab-df-convert:hover {\n",
              "      background-color: #E2EBFA;\n",
              "      box-shadow: 0px 1px 2px rgba(60, 64, 67, 0.3), 0px 1px 3px 1px rgba(60, 64, 67, 0.15);\n",
              "      fill: #174EA6;\n",
              "    }\n",
              "\n",
              "    [theme=dark] .colab-df-convert {\n",
              "      background-color: #3B4455;\n",
              "      fill: #D2E3FC;\n",
              "    }\n",
              "\n",
              "    [theme=dark] .colab-df-convert:hover {\n",
              "      background-color: #434B5C;\n",
              "      box-shadow: 0px 1px 3px 1px rgba(0, 0, 0, 0.15);\n",
              "      filter: drop-shadow(0px 1px 2px rgba(0, 0, 0, 0.3));\n",
              "      fill: #FFFFFF;\n",
              "    }\n",
              "  </style>\n",
              "\n",
              "      <script>\n",
              "        const buttonEl =\n",
              "          document.querySelector('#df-b519bf5e-1449-40b5-aad6-87a9977be83e button.colab-df-convert');\n",
              "        buttonEl.style.display =\n",
              "          google.colab.kernel.accessAllowed ? 'block' : 'none';\n",
              "\n",
              "        async function convertToInteractive(key) {\n",
              "          const element = document.querySelector('#df-b519bf5e-1449-40b5-aad6-87a9977be83e');\n",
              "          const dataTable =\n",
              "            await google.colab.kernel.invokeFunction('convertToInteractive',\n",
              "                                                     [key], {});\n",
              "          if (!dataTable) return;\n",
              "\n",
              "          const docLinkHtml = 'Like what you see? Visit the ' +\n",
              "            '<a target=\"_blank\" href=https://colab.research.google.com/notebooks/data_table.ipynb>data table notebook</a>'\n",
              "            + ' to learn more about interactive tables.';\n",
              "          element.innerHTML = '';\n",
              "          dataTable['output_type'] = 'display_data';\n",
              "          await google.colab.output.renderOutput(dataTable, element);\n",
              "          const docLink = document.createElement('div');\n",
              "          docLink.innerHTML = docLinkHtml;\n",
              "          element.appendChild(docLink);\n",
              "        }\n",
              "      </script>\n",
              "    </div>\n",
              "  </div>\n",
              "  "
            ],
            "text/plain": [
              "             Survived  Pclass  ...     Fare  Embarked\n",
              "PassengerId                    ...                   \n",
              "1                   0       3  ...   7.2500         2\n",
              "2                   1       1  ...  71.2833         0\n",
              "3                   1       3  ...   7.9250         2\n",
              "4                   1       1  ...  53.1000         2\n",
              "5                   0       3  ...   8.0500         2\n",
              "\n",
              "[5 rows x 10 columns]"
            ]
          },
          "execution_count": 75,
          "metadata": {},
          "output_type": "execute_result"
        }
      ],
      "source": [
        "for col in predictors: # Loop through all columns in predictors\n",
        "    if titanic[col].dtype == 'object':  # check if column's type is object (text)\n",
        "        titanic[col] = pd.Categorical(titanic[col]).codes  # convert text to numerical\n",
        "\n",
        "titanic.head()"
      ]
    },
    {
      "cell_type": "code",
      "execution_count": null,
      "metadata": {
        "colab": {
          "base_uri": "https://localhost:8080/"
        },
        "collapsed": true,
        "id": "7CvWSj-k9Xcr",
        "outputId": "300dbb5f-2542-4336-9d8e-1a10a8a2a442"
      },
      "outputs": [
        {
          "name": "stdout",
          "output_type": "stream",
          "text": [
            "           Pclass         Sex         Age  ...       Parch        Fare    Embarked\n",
            "count  891.000000  891.000000  891.000000  ...  891.000000  891.000000  891.000000\n",
            "mean     2.308642    0.647587   29.361582  ...    0.381594   32.204208    1.529742\n",
            "std      0.836071    0.477990   13.019697  ...    0.806057   49.693429    0.800254\n",
            "min      1.000000    0.000000    0.420000  ...    0.000000    0.000000   -1.000000\n",
            "25%      2.000000    0.000000   22.000000  ...    0.000000    7.910400    1.000000\n",
            "50%      3.000000    1.000000   28.000000  ...    0.000000   14.454200    2.000000\n",
            "75%      3.000000    1.000000   35.000000  ...    0.000000   31.000000    2.000000\n",
            "max      3.000000    1.000000   80.000000  ...    6.000000  512.329200    2.000000\n",
            "\n",
            "[8 rows x 7 columns]\n",
            "count    891.000000\n",
            "mean       0.383838\n",
            "std        0.486592\n",
            "min        0.000000\n",
            "25%        0.000000\n",
            "50%        0.000000\n",
            "75%        1.000000\n",
            "max        1.000000\n",
            "Name: Survived, dtype: float64\n",
            "train shape (623, 7) (623,)\n",
            "test shape (268, 7) (268,)\n"
          ]
        }
      ],
      "source": [
        "# Split the data into a training set and a testing set. Set: test_size=0.3, random_state=1\n",
        "from sklearn.model_selection import train_test_split\n",
        "\n",
        "#Y = titanic[[\"Survived\"]]\n",
        "Y = titanic.Survived\n",
        "X = titanic[predictors]\n",
        "print(X.describe())\n",
        "print(Y.describe())\n",
        "\n",
        "X_train, X_test, y_train, y_test = train_test_split(X, Y, test_size=0.3, random_state = 1)\n",
        "print (\"train shape\", X_train.shape, y_train.shape)\n",
        "print (\"test shape\", X_test.shape, y_test.shape)"
      ]
    },
    {
      "cell_type": "code",
      "execution_count": null,
      "metadata": {
        "colab": {
          "base_uri": "https://localhost:8080/"
        },
        "collapsed": true,
        "id": "KBjnYcSk9Xcr",
        "outputId": "faf2658c-5599-4556-ca63-f2a80117c7ed"
      },
      "outputs": [
        {
          "name": "stdout",
          "output_type": "stream",
          "text": [
            "train accuracy = 0.8073836276083467\n",
            "test accuracy = 0.7723880597014925\n"
          ]
        }
      ],
      "source": [
        "# import LogisticRegression from: http://scikit-learn.org/stable/modules/generated/sklearn.linear_model.LogisticRegression.html\n",
        "from sklearn.linear_model import LogisticRegression\n",
        "\n",
        "clf = LogisticRegression(random_state=1)\n",
        "clf.fit(X_train, y_train)\n",
        "train_score = clf.score(X_train, y_train)\n",
        "test_score = clf.score(X_test, y_test)\n",
        "\n",
        "print ('train accuracy =', train_score)\n",
        "print ('test accuracy =', test_score)"
      ]
    },
    {
      "cell_type": "markdown",
      "metadata": {
        "id": "3h_lLo9L9Xcs"
      },
      "source": [
        "Let's print the model's parameters"
      ]
    },
    {
      "cell_type": "code",
      "execution_count": null,
      "metadata": {
        "colab": {
          "base_uri": "https://localhost:8080/"
        },
        "collapsed": true,
        "id": "g8O0eXo-9Xcs",
        "outputId": "482819be-b04a-4365-8790-b8c4ee6c0d3a"
      },
      "outputs": [
        {
          "name": "stdout",
          "output_type": "stream",
          "text": [
            "     Feature  Coefficient Estimate\n",
            "0     Pclass             -1.157723\n",
            "1        Sex             -2.704421\n",
            "2        Age             -0.040836\n",
            "3      SibSp             -0.333083\n",
            "4      Parch              0.073972\n",
            "5       Fare             -0.000618\n",
            "6   Embarked             -0.232788\n",
            "7  Intercept              5.406444\n"
          ]
        }
      ],
      "source": [
        "coeff = pd.DataFrame()\n",
        "coeff['Feature'] = X_train.columns\n",
        "coeff['Coefficient Estimate'] = pd.Series(clf.coef_[0])\n",
        "coeff.loc[len(coeff)]=['Intercept',clf.intercept_[0]]\n",
        "print (coeff)"
      ]
    },
    {
      "cell_type": "markdown",
      "metadata": {
        "id": "qqGOuOla9Xcs"
      },
      "source": [
        "We now need to predict class labels for the test set. We will also generate the class probabilities"
      ]
    },
    {
      "cell_type": "code",
      "execution_count": null,
      "metadata": {
        "colab": {
          "base_uri": "https://localhost:8080/"
        },
        "collapsed": true,
        "id": "XP9i5RY89Xcs",
        "outputId": "a9723212-3364-4119-e987-afc877145e2c"
      },
      "outputs": [
        {
          "name": "stdout",
          "output_type": "stream",
          "text": [
            "[1 0 1 1 1 0 0 1 1 1 0 1 0 0 1 0 0 0 0 1 0 0 1 0 1 0 1 1 0 1 1 0 0 1 0 1 0\n",
            " 0 1 0 1 1 1 0 1 0 0 0 0 0 0 1 0 0 0 1 0 0 0 1 0 0 0 0 0 1 0 0 1 0 0 0 0 0\n",
            " 1 0 1 0 0 1 0 0 0 0 1 0 0 0 1 1 0 0 0 1 0 1 0 1 0 0 1 0 0 1 1 0 0 0 0 0 0\n",
            " 0 0 0 0 0 0 0 1 1 1 0 0 0 1 1 1 1 0 0 0 0 1 1 0 1 1 0 0 1 1 0 1 1 0 1 0 0\n",
            " 1 0 1 0 0 1 0 0 0 0 1 0 0 0 1 0 0 1 1 0 0 0 1 1 1 0 1 0 0 0 1 0 1 1 0 0 1\n",
            " 0 0 1 0 1 0 0 1 1 1 1 0 1 0 0 0 1 0 0 0 1 1 0 0 0 1 0 0 0 0 0 0 1 1 0 0 0\n",
            " 0 0 0 0 1 0 1 0 0 0 0 0 0 1 1 1 1 0 0 0 0 0 0 0 1 1 0 1 0 0 0 1 1 1 0 1 0\n",
            " 1 1 0 1 1 0 0 1 0]\n"
          ]
        }
      ],
      "source": [
        "# predict class labels for the test set\n",
        "y_pred = clf.predict(X_test)\n",
        "print (y_pred)"
      ]
    },
    {
      "cell_type": "code",
      "execution_count": null,
      "metadata": {
        "colab": {
          "base_uri": "https://localhost:8080/"
        },
        "collapsed": true,
        "id": "YcyX1vod9Xcs",
        "outputId": "342a918b-a771-43b6-f737-a8988a54f373"
      },
      "outputs": [
        {
          "name": "stdout",
          "output_type": "stream",
          "text": [
            "[[0.14100295 0.85899705]\n",
            " [0.91567725 0.08432275]\n",
            " [0.12733641 0.87266359]\n",
            " [0.36538968 0.63461032]\n",
            " [0.07789601 0.92210399]\n",
            " [0.89081901 0.10918099]\n",
            " [0.80808975 0.19191025]\n",
            " [0.12047174 0.87952826]\n",
            " [0.49574919 0.50425081]\n",
            " [0.44660156 0.55339844]\n",
            " [0.90572367 0.09427633]\n",
            " [0.40105712 0.59894288]\n",
            " [0.76105753 0.23894247]\n",
            " [0.77389642 0.22610358]\n",
            " [0.36533412 0.63466588]\n",
            " [0.52026374 0.47973626]\n",
            " [0.92509241 0.07490759]\n",
            " [0.92823072 0.07176928]\n",
            " [0.93771354 0.06228646]\n",
            " [0.233346   0.766654  ]\n",
            " [0.92746423 0.07253577]\n",
            " [0.89797302 0.10202698]\n",
            " [0.03775872 0.96224128]\n",
            " [0.70255423 0.29744577]\n",
            " [0.2691121  0.7308879 ]\n",
            " [0.91250806 0.08749194]\n",
            " [0.06234378 0.93765622]\n",
            " [0.28858393 0.71141607]\n",
            " [0.75900407 0.24099593]\n",
            " [0.05780962 0.94219038]\n",
            " [0.3628989  0.6371011 ]\n",
            " [0.52087326 0.47912674]\n",
            " [0.52684107 0.47315893]\n",
            " [0.47282302 0.52717698]\n",
            " [0.93478241 0.06521759]\n",
            " [0.48507374 0.51492626]\n",
            " [0.60051832 0.39948168]\n",
            " [0.9156494  0.0843506 ]\n",
            " [0.4610695  0.5389305 ]\n",
            " [0.88678344 0.11321656]\n",
            " [0.41090477 0.58909523]\n",
            " [0.37608802 0.62391198]\n",
            " [0.17189625 0.82810375]\n",
            " [0.68931855 0.31068145]\n",
            " [0.38442566 0.61557434]\n",
            " [0.93525371 0.06474629]\n",
            " [0.96203508 0.03796492]\n",
            " [0.842857   0.157143  ]\n",
            " [0.55026076 0.44973924]\n",
            " [0.67674803 0.32325197]\n",
            " [0.6826846  0.3173154 ]\n",
            " [0.14661839 0.85338161]\n",
            " [0.70294784 0.29705216]\n",
            " [0.82571925 0.17428075]\n",
            " [0.91885123 0.08114877]\n",
            " [0.46387523 0.53612477]\n",
            " [0.78069741 0.21930259]\n",
            " [0.80725259 0.19274741]\n",
            " [0.94331487 0.05668513]\n",
            " [0.34397667 0.65602333]\n",
            " [0.90338666 0.09661334]\n",
            " [0.87202961 0.12797039]\n",
            " [0.76293506 0.23706494]\n",
            " [0.6846688  0.3153312 ]\n",
            " [0.5962254  0.4037746 ]\n",
            " [0.29161631 0.70838369]\n",
            " [0.86491313 0.13508687]\n",
            " [0.86347989 0.13652011]\n",
            " [0.18945894 0.81054106]\n",
            " [0.89189919 0.10810081]\n",
            " [0.94774175 0.05225825]\n",
            " [0.95653351 0.04346649]\n",
            " [0.59462652 0.40537348]\n",
            " [0.91567725 0.08432275]\n",
            " [0.4276913  0.5723087 ]\n",
            " [0.76157434 0.23842566]\n",
            " [0.1203997  0.8796003 ]\n",
            " [0.89586805 0.10413195]\n",
            " [0.69900242 0.30099758]\n",
            " [0.04409604 0.95590396]\n",
            " [0.91160478 0.08839522]\n",
            " [0.9928952  0.0071048 ]\n",
            " [0.91568461 0.08431539]\n",
            " [0.93271502 0.06728498]\n",
            " [0.10496443 0.89503557]\n",
            " [0.91885046 0.08114954]\n",
            " [0.91568461 0.08431539]\n",
            " [0.87202932 0.12797068]\n",
            " [0.49526106 0.50473894]\n",
            " [0.40417291 0.59582709]\n",
            " [0.70190559 0.29809441]\n",
            " [0.87213192 0.12786808]\n",
            " [0.88387219 0.11612781]\n",
            " [0.36533412 0.63466588]\n",
            " [0.9157538  0.0842462 ]\n",
            " [0.42505343 0.57494657]\n",
            " [0.97468037 0.02531963]\n",
            " [0.31315751 0.68684249]\n",
            " [0.88262101 0.11737899]\n",
            " [0.91567725 0.08432275]\n",
            " [0.40699362 0.59300638]\n",
            " [0.61610402 0.38389598]\n",
            " [0.89872091 0.10127909]\n",
            " [0.22041305 0.77958695]\n",
            " [0.0257441  0.9742559 ]\n",
            " [0.89858989 0.10141011]\n",
            " [0.91878436 0.08121564]\n",
            " [0.91877628 0.08122372]\n",
            " [0.94297087 0.05702913]\n",
            " [0.95060223 0.04939777]\n",
            " [0.69528531 0.30471469]\n",
            " [0.84210951 0.15789049]\n",
            " [0.88566087 0.11433913]\n",
            " [0.93057223 0.06942777]\n",
            " [0.7361911  0.2638089 ]\n",
            " [0.93015792 0.06984208]\n",
            " [0.83331562 0.16668438]\n",
            " [0.63469824 0.36530176]\n",
            " [0.30870795 0.69129205]\n",
            " [0.45105389 0.54894611]\n",
            " [0.24363463 0.75636537]\n",
            " [0.79463699 0.20536301]\n",
            " [0.91567725 0.08432275]\n",
            " [0.69448193 0.30551807]\n",
            " [0.07154217 0.92845783]\n",
            " [0.04793842 0.95206158]\n",
            " [0.18633907 0.81366093]\n",
            " [0.36250707 0.63749293]\n",
            " [0.9928952  0.0071048 ]\n",
            " [0.89586805 0.10413195]\n",
            " [0.90217851 0.09782149]\n",
            " [0.95427936 0.04572064]\n",
            " [0.21440991 0.78559009]\n",
            " [0.40268564 0.59731436]\n",
            " [0.70867125 0.29132875]\n",
            " [0.14311681 0.85688319]\n",
            " [0.04121779 0.95878221]\n",
            " [0.94396053 0.05603947]\n",
            " [0.90960896 0.09039104]\n",
            " [0.37196356 0.62803644]\n",
            " [0.07702983 0.92297017]\n",
            " [0.94502112 0.05497888]\n",
            " [0.04963701 0.95036299]\n",
            " [0.42084317 0.57915683]\n",
            " [0.91567148 0.08432852]\n",
            " [0.40406357 0.59593643]\n",
            " [0.79435959 0.20564041]\n",
            " [0.91568461 0.08431539]\n",
            " [0.38704923 0.61295077]\n",
            " [0.89473024 0.10526976]\n",
            " [0.18963228 0.81036772]\n",
            " [0.96222813 0.03777187]\n",
            " [0.91388135 0.08611865]\n",
            " [0.31060284 0.68939716]\n",
            " [0.91796857 0.08203143]\n",
            " [0.92748242 0.07251758]\n",
            " [0.89469263 0.10530737]\n",
            " [0.95056993 0.04943007]\n",
            " [0.1615455  0.8384545 ]\n",
            " [0.7361911  0.2638089 ]\n",
            " [0.87425213 0.12574787]\n",
            " [0.9157538  0.0842462 ]\n",
            " [0.35310637 0.64689363]\n",
            " [0.52164471 0.47835529]\n",
            " [0.95119938 0.04880062]\n",
            " [0.27314702 0.72685298]\n",
            " [0.26183186 0.73816814]\n",
            " [0.91796857 0.08203143]\n",
            " [0.86933313 0.13066687]\n",
            " [0.67836792 0.32163208]\n",
            " [0.07566938 0.92433062]\n",
            " [0.4545507  0.5454493 ]\n",
            " [0.0755375  0.9244625 ]\n",
            " [0.90341319 0.09658681]\n",
            " [0.14602194 0.85397806]\n",
            " [0.51616536 0.48383464]\n",
            " [0.89586708 0.10413292]\n",
            " [0.8660263  0.1339737 ]\n",
            " [0.24508641 0.75491359]\n",
            " [0.94416416 0.05583584]\n",
            " [0.04795077 0.95204923]\n",
            " [0.22609299 0.77390701]\n",
            " [0.83864292 0.16135708]\n",
            " [0.93196822 0.06803178]\n",
            " [0.07811528 0.92188472]\n",
            " [0.69467867 0.30532133]\n",
            " [0.91568461 0.08431539]\n",
            " [0.05555481 0.94444519]\n",
            " [0.89586805 0.10413195]\n",
            " [0.08055748 0.91944252]\n",
            " [0.52388133 0.47611867]\n",
            " [0.68586228 0.31413772]\n",
            " [0.36533412 0.63466588]\n",
            " [0.21144004 0.78855996]\n",
            " [0.21463453 0.78536547]\n",
            " [0.05313719 0.94686281]\n",
            " [0.77248689 0.22751311]\n",
            " [0.13782633 0.86217367]\n",
            " [0.90397399 0.09602601]\n",
            " [0.79989926 0.20010074]\n",
            " [0.87383923 0.12616077]\n",
            " [0.28478657 0.71521343]\n",
            " [0.87202932 0.12797068]\n",
            " [0.63690455 0.36309545]\n",
            " [0.67344612 0.32655388]\n",
            " [0.16283008 0.83716992]\n",
            " [0.21094731 0.78905269]\n",
            " [0.75174426 0.24825574]\n",
            " [0.52026374 0.47973626]\n",
            " [0.96828452 0.03171548]\n",
            " [0.0524113  0.9475887 ]\n",
            " [0.93110524 0.06889476]\n",
            " [0.87429088 0.12570912]\n",
            " [0.77416116 0.22583884]\n",
            " [0.85003936 0.14996064]\n",
            " [0.93529114 0.06470886]\n",
            " [0.8958166  0.1041834 ]\n",
            " [0.04093025 0.95906975]\n",
            " [0.19628117 0.80371883]\n",
            " [0.77285589 0.22714411]\n",
            " [0.52079611 0.47920389]\n",
            " [0.87202932 0.12797068]\n",
            " [0.74337907 0.25662093]\n",
            " [0.7313774  0.2686226 ]\n",
            " [0.92343845 0.07656155]\n",
            " [0.69948351 0.30051649]\n",
            " [0.04379551 0.95620449]\n",
            " [0.51576323 0.48423677]\n",
            " [0.23563124 0.76436876]\n",
            " [0.70303091 0.29696909]\n",
            " [0.60727152 0.39272848]\n",
            " [0.83218774 0.16781226]\n",
            " [0.67251703 0.32748297]\n",
            " [0.81388601 0.18611399]\n",
            " [0.94231663 0.05768337]\n",
            " [0.38987367 0.61012633]\n",
            " [0.46887738 0.53112262]\n",
            " [0.3317613  0.6682387 ]\n",
            " [0.28303143 0.71696857]\n",
            " [0.92220426 0.07779574]\n",
            " [0.9433414  0.0566586 ]\n",
            " [0.8344545  0.1655455 ]\n",
            " [0.88086992 0.11913008]\n",
            " [0.92945875 0.07054125]\n",
            " [0.95117657 0.04882343]\n",
            " [0.9246686  0.0753314 ]\n",
            " [0.19236969 0.80763031]\n",
            " [0.22636357 0.77363643]\n",
            " [0.65132121 0.34867879]\n",
            " [0.09282531 0.90717469]\n",
            " [0.94860267 0.05139733]\n",
            " [0.89961646 0.10038354]\n",
            " [0.6842142  0.3157858 ]\n",
            " [0.40849398 0.59150602]\n",
            " [0.19881062 0.80118938]\n",
            " [0.27662503 0.72337497]\n",
            " [0.76978265 0.23021735]\n",
            " [0.2724469  0.7275531 ]\n",
            " [0.83483053 0.16516947]\n",
            " [0.44235294 0.55764706]\n",
            " [0.10372827 0.89627173]\n",
            " [0.92343845 0.07656155]\n",
            " [0.36533412 0.63466588]\n",
            " [0.14376858 0.85623142]\n",
            " [0.76810584 0.23189416]\n",
            " [0.80755126 0.19244874]\n",
            " [0.46654909 0.53345091]\n",
            " [0.7632605  0.2367395 ]]\n"
          ]
        }
      ],
      "source": [
        "# generate class probabilities : http://scikit-learn.org/stable/modules/generated/sklearn.linear_model.LogisticRegression.html\n",
        "\n",
        "\n",
        "y_probs = clf.predict_proba(X_test)\n",
        "print (y_probs)"
      ]
    },
    {
      "cell_type": "markdown",
      "metadata": {
        "id": "LZcfyRhp9Xcs"
      },
      "source": [
        "As you can see, the classifier outputs two probabilities for each row. It's predicting a 1 (Survived) any time the probability in the second column is greater than 0.5. Let's visualize it all together."
      ]
    },
    {
      "cell_type": "code",
      "execution_count": null,
      "metadata": {
        "colab": {
          "base_uri": "https://localhost:8080/",
          "height": 235
        },
        "collapsed": true,
        "id": "NpLKax-J9Xcs",
        "outputId": "3fcc4f3a-ba35-4ca2-af46-c962119c0a15"
      },
      "outputs": [
        {
          "data": {
            "text/html": [
              "\n",
              "  <div id=\"df-506fdbf8-a8a7-4ce6-a89a-b92bec84b075\">\n",
              "    <div class=\"colab-df-container\">\n",
              "      <div>\n",
              "<style scoped>\n",
              "    .dataframe tbody tr th:only-of-type {\n",
              "        vertical-align: middle;\n",
              "    }\n",
              "\n",
              "    .dataframe tbody tr th {\n",
              "        vertical-align: top;\n",
              "    }\n",
              "\n",
              "    .dataframe thead th {\n",
              "        text-align: right;\n",
              "    }\n",
              "</style>\n",
              "<table border=\"1\" class=\"dataframe\">\n",
              "  <thead>\n",
              "    <tr style=\"text-align: right;\">\n",
              "      <th></th>\n",
              "      <th>Survived_original</th>\n",
              "      <th>Survived_predicted</th>\n",
              "      <th>Survived_proba</th>\n",
              "      <th>Comparison</th>\n",
              "    </tr>\n",
              "    <tr>\n",
              "      <th>PassengerId</th>\n",
              "      <th></th>\n",
              "      <th></th>\n",
              "      <th></th>\n",
              "      <th></th>\n",
              "    </tr>\n",
              "  </thead>\n",
              "  <tbody>\n",
              "    <tr>\n",
              "      <th>863</th>\n",
              "      <td>1</td>\n",
              "      <td>1</td>\n",
              "      <td>0.858997</td>\n",
              "      <td>True</td>\n",
              "    </tr>\n",
              "    <tr>\n",
              "      <th>224</th>\n",
              "      <td>0</td>\n",
              "      <td>0</td>\n",
              "      <td>0.084323</td>\n",
              "      <td>True</td>\n",
              "    </tr>\n",
              "    <tr>\n",
              "      <th>85</th>\n",
              "      <td>1</td>\n",
              "      <td>1</td>\n",
              "      <td>0.872664</td>\n",
              "      <td>True</td>\n",
              "    </tr>\n",
              "    <tr>\n",
              "      <th>681</th>\n",
              "      <td>0</td>\n",
              "      <td>1</td>\n",
              "      <td>0.634610</td>\n",
              "      <td>False</td>\n",
              "    </tr>\n",
              "    <tr>\n",
              "      <th>536</th>\n",
              "      <td>1</td>\n",
              "      <td>1</td>\n",
              "      <td>0.922104</td>\n",
              "      <td>True</td>\n",
              "    </tr>\n",
              "  </tbody>\n",
              "</table>\n",
              "</div>\n",
              "      <button class=\"colab-df-convert\" onclick=\"convertToInteractive('df-506fdbf8-a8a7-4ce6-a89a-b92bec84b075')\"\n",
              "              title=\"Convert this dataframe to an interactive table.\"\n",
              "              style=\"display:none;\">\n",
              "        \n",
              "  <svg xmlns=\"http://www.w3.org/2000/svg\" height=\"24px\"viewBox=\"0 0 24 24\"\n",
              "       width=\"24px\">\n",
              "    <path d=\"M0 0h24v24H0V0z\" fill=\"none\"/>\n",
              "    <path d=\"M18.56 5.44l.94 2.06.94-2.06 2.06-.94-2.06-.94-.94-2.06-.94 2.06-2.06.94zm-11 1L8.5 8.5l.94-2.06 2.06-.94-2.06-.94L8.5 2.5l-.94 2.06-2.06.94zm10 10l.94 2.06.94-2.06 2.06-.94-2.06-.94-.94-2.06-.94 2.06-2.06.94z\"/><path d=\"M17.41 7.96l-1.37-1.37c-.4-.4-.92-.59-1.43-.59-.52 0-1.04.2-1.43.59L10.3 9.45l-7.72 7.72c-.78.78-.78 2.05 0 2.83L4 21.41c.39.39.9.59 1.41.59.51 0 1.02-.2 1.41-.59l7.78-7.78 2.81-2.81c.8-.78.8-2.07 0-2.86zM5.41 20L4 18.59l7.72-7.72 1.47 1.35L5.41 20z\"/>\n",
              "  </svg>\n",
              "      </button>\n",
              "      \n",
              "  <style>\n",
              "    .colab-df-container {\n",
              "      display:flex;\n",
              "      flex-wrap:wrap;\n",
              "      gap: 12px;\n",
              "    }\n",
              "\n",
              "    .colab-df-convert {\n",
              "      background-color: #E8F0FE;\n",
              "      border: none;\n",
              "      border-radius: 50%;\n",
              "      cursor: pointer;\n",
              "      display: none;\n",
              "      fill: #1967D2;\n",
              "      height: 32px;\n",
              "      padding: 0 0 0 0;\n",
              "      width: 32px;\n",
              "    }\n",
              "\n",
              "    .colab-df-convert:hover {\n",
              "      background-color: #E2EBFA;\n",
              "      box-shadow: 0px 1px 2px rgba(60, 64, 67, 0.3), 0px 1px 3px 1px rgba(60, 64, 67, 0.15);\n",
              "      fill: #174EA6;\n",
              "    }\n",
              "\n",
              "    [theme=dark] .colab-df-convert {\n",
              "      background-color: #3B4455;\n",
              "      fill: #D2E3FC;\n",
              "    }\n",
              "\n",
              "    [theme=dark] .colab-df-convert:hover {\n",
              "      background-color: #434B5C;\n",
              "      box-shadow: 0px 1px 3px 1px rgba(0, 0, 0, 0.15);\n",
              "      filter: drop-shadow(0px 1px 2px rgba(0, 0, 0, 0.3));\n",
              "      fill: #FFFFFF;\n",
              "    }\n",
              "  </style>\n",
              "\n",
              "      <script>\n",
              "        const buttonEl =\n",
              "          document.querySelector('#df-506fdbf8-a8a7-4ce6-a89a-b92bec84b075 button.colab-df-convert');\n",
              "        buttonEl.style.display =\n",
              "          google.colab.kernel.accessAllowed ? 'block' : 'none';\n",
              "\n",
              "        async function convertToInteractive(key) {\n",
              "          const element = document.querySelector('#df-506fdbf8-a8a7-4ce6-a89a-b92bec84b075');\n",
              "          const dataTable =\n",
              "            await google.colab.kernel.invokeFunction('convertToInteractive',\n",
              "                                                     [key], {});\n",
              "          if (!dataTable) return;\n",
              "\n",
              "          const docLinkHtml = 'Like what you see? Visit the ' +\n",
              "            '<a target=\"_blank\" href=https://colab.research.google.com/notebooks/data_table.ipynb>data table notebook</a>'\n",
              "            + ' to learn more about interactive tables.';\n",
              "          element.innerHTML = '';\n",
              "          dataTable['output_type'] = 'display_data';\n",
              "          await google.colab.output.renderOutput(dataTable, element);\n",
              "          const docLink = document.createElement('div');\n",
              "          docLink.innerHTML = docLinkHtml;\n",
              "          element.appendChild(docLink);\n",
              "        }\n",
              "      </script>\n",
              "    </div>\n",
              "  </div>\n",
              "  "
            ],
            "text/plain": [
              "             Survived_original  Survived_predicted  Survived_proba  Comparison\n",
              "PassengerId                                                                   \n",
              "863                          1                   1        0.858997        True\n",
              "224                          0                   0        0.084323        True\n",
              "85                           1                   1        0.872664        True\n",
              "681                          0                   1        0.634610       False\n",
              "536                          1                   1        0.922104        True"
            ]
          },
          "execution_count": 81,
          "metadata": {},
          "output_type": "execute_result"
        }
      ],
      "source": [
        "import numpy as np\n",
        "\n",
        "pred = pd.DataFrame({        \n",
        "        \"Survived_original\": y_test,\n",
        "        \"Survived_predicted\": y_pred,\n",
        "        \"Survived_proba\": np.transpose(y_probs)[1]      \n",
        "        })\n",
        "pred[\"Comparison\"]= pred.Survived_original ==pred.Survived_predicted\n",
        "pred.head()"
      ]
    },
    {
      "cell_type": "markdown",
      "metadata": {
        "id": "Phow9sQf9Xct"
      },
      "source": [
        "## Confusion matrix"
      ]
    },
    {
      "cell_type": "code",
      "execution_count": null,
      "metadata": {
        "colab": {
          "base_uri": "https://localhost:8080/"
        },
        "collapsed": true,
        "id": "5uI53Euc9Xct",
        "outputId": "a35a3d65-21b8-4d14-f92c-877002e48e83"
      },
      "outputs": [
        {
          "name": "stdout",
          "output_type": "stream",
          "text": [
            "[[129  24]\n",
            " [ 37  78]]\n",
            "              precision    recall  f1-score   support\n",
            "\n",
            "           0       0.78      0.84      0.81       153\n",
            "           1       0.76      0.68      0.72       115\n",
            "\n",
            "    accuracy                           0.77       268\n",
            "   macro avg       0.77      0.76      0.76       268\n",
            "weighted avg       0.77      0.77      0.77       268\n",
            "\n"
          ]
        }
      ],
      "source": [
        "from sklearn import metrics\n",
        "print (metrics.confusion_matrix(y_test, y_pred))\n",
        "print (metrics.classification_report(y_test, y_pred))"
      ]
    },
    {
      "cell_type": "markdown",
      "metadata": {
        "id": "Uvm8Z-pM9Xct"
      },
      "source": [
        "As you can see, we can have the classification report for each class"
      ]
    },
    {
      "cell_type": "markdown",
      "metadata": {
        "id": "lOBU4czd9Xct"
      },
      "source": [
        "## K-Fold Cross Validation"
      ]
    },
    {
      "cell_type": "code",
      "execution_count": null,
      "metadata": {
        "colab": {
          "base_uri": "https://localhost:8080/"
        },
        "collapsed": true,
        "id": "vY5Jyd6E9Xct",
        "outputId": "0294d1f1-e458-4269-91cf-07bf6d5a4b3e"
      },
      "outputs": [
        {
          "name": "stdout",
          "output_type": "stream",
          "text": [
            "[0.77653631 0.78651685 0.78089888 0.76966292 0.82022472]\n",
            "0.7867679367271359\n"
          ]
        }
      ],
      "source": [
        "# import cross_validation from: http://scikit-learn.org/stable/modules/generated/sklearn.model_selection.cross_val_score.html\n",
        "#from sklearn.model_selection import cross_validation\n",
        "from sklearn.model_selection import cross_val_score\n",
        "\n",
        "clf = LogisticRegression(random_state=1)\n",
        "scores = cross_val_score(clf, titanic[predictors], titanic[\"Survived\"], scoring='accuracy', cv=5)\n",
        "## see model \n",
        "print(scores)\n",
        "# Take the mean of the scores (because we have one for each fold)\n",
        "print(scores.mean())"
      ]
    },
    {
      "cell_type": "markdown",
      "metadata": {
        "collapsed": true,
        "id": "wzBrwUE_9Xct"
      },
      "source": [
        "When you are improving a model, you want to make sur that you are really doing it and not just being lucky. This is why it's good to work with cross validation instead of one train/test split."
      ]
    },
    {
      "cell_type": "code",
      "execution_count": null,
      "metadata": {
        "collapsed": true,
        "id": "TE4z7B6g9Xcu"
      },
      "outputs": [],
      "source": [
        "     "
      ]
    }
  ],
  "metadata": {
    "anaconda-cloud": {},
    "colab": {
      "collapsed_sections": [],
      "name": "Lab3-[Logistic Regression]-Titanic.ipynb",
      "provenance": []
    },
    "interpreter": {
      "hash": "aee8b7b246df8f9039afb4144a1f6fd8d2ca17a180786b69acc140d282b71a49"
    },
    "kernelspec": {
      "display_name": "ml_week2",
      "language": "python",
      "name": "python3"
    },
    "language_info": {
      "codemirror_mode": {
        "name": "ipython",
        "version": 3
      },
      "file_extension": ".py",
      "mimetype": "text/x-python",
      "name": "python",
      "nbconvert_exporter": "python",
      "pygments_lexer": "ipython3",
      "version": "3.10.1"
    }
  },
  "nbformat": 4,
  "nbformat_minor": 0
}
